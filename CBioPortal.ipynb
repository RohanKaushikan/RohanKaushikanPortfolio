{
 "cells": [
  {
   "cell_type": "code",
   "execution_count": 2,
   "id": "e04629e4",
   "metadata": {},
   "outputs": [
    {
     "ename": "ERROR",
     "evalue": "Error in library(cbioportalR): there is no package called ‘cbioportalR’\n",
     "output_type": "error",
     "traceback": [
      "Error in library(cbioportalR): there is no package called ‘cbioportalR’\nTraceback:\n",
      "1. library(cbioportalR)"
     ]
    }
   ],
   "source": [
    "library(cbioportalR)\n",
    "library(dplyr)"
   ]
  },
  {
   "cell_type": "code",
   "execution_count": 3,
   "id": "2ed75db8",
   "metadata": {},
   "outputs": [
    {
     "ename": "ERROR",
     "evalue": "Error in set_cbioportal_db(\"public\"): could not find function \"set_cbioportal_db\"\n",
     "output_type": "error",
     "traceback": [
      "Error in set_cbioportal_db(\"public\"): could not find function \"set_cbioportal_db\"\nTraceback:\n"
     ]
    }
   ],
   "source": [
    "set_cbioportal_db(\"public\")"
   ]
  },
  {
   "cell_type": "code",
   "execution_count": null,
   "id": "2084e5e2",
   "metadata": {},
   "outputs": [],
   "source": []
  }
 ],
 "metadata": {
  "kernelspec": {
   "display_name": "R",
   "language": "R",
   "name": "ir"
  },
  "language_info": {
   "codemirror_mode": "r",
   "file_extension": ".r",
   "mimetype": "text/x-r-source",
   "name": "R",
   "pygments_lexer": "r",
   "version": "3.6.1"
  }
 },
 "nbformat": 4,
 "nbformat_minor": 5
}
